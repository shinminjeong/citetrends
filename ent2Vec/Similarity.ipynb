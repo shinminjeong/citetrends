{
 "cells": [
  {
   "cell_type": "code",
   "execution_count": 24,
   "metadata": {},
   "outputs": [],
   "source": [
    "from utils import query_author_id, query_conf_id\n",
    "from operator import itemgetter\n",
    "from collections import Counter\n",
    "# import sys\n",
    "# !{sys.executable} -m pip install sklearn\n",
    "# !{sys.executable} -m pip install numpy\n",
    "import numpy as np\n",
    "from sklearn.metrics.pairwise import cosine_similarity\n",
    "from sklearn.decomposition import PCA\n",
    "import matplotlib.pyplot as plt"
   ]
  },
  {
   "cell_type": "code",
   "execution_count": 4,
   "metadata": {},
   "outputs": [],
   "source": [
    "name_id_pairs = {\n",
    "    \"steve_blackburn\": {\"id\": 2146610949, \"type\":\"author\"},\n",
    "    \"kathryn_mckinley\": {\"id\": 2115847858, \"type\":\"author\"},\n",
    "    \"james_bornholt\": {\"id\": 2026265091, \"type\":\"author\"},\n",
    "    \"julian_dolby\": {\"id\": 2780161863, \"type\":\"author\"},\n",
    "    \"perry_cheng\": {\"id\": 2140441920, \"type\":\"author\"},\n",
    "    \"pldi\": {\"id\": 1127352206, \"type\":\"conf\"},\n",
    "}\n",
    "\n",
    "def get_bov(name, year=False):\n",
    "    if name_id_pairs[name][\"type\"] == \"author\":\n",
    "        res = query_author_id(name_id_pairs[name][\"id\"])\n",
    "    if name_id_pairs[name][\"type\"] == \"conf\":\n",
    "        res = query_conf_id(name_id_pairs[name][\"id\"])\n",
    "    name_id_pairs[name][\"numpaper\"] = len(res)\n",
    "    if not year:\n",
    "        return get_set_of_venues(res)\n",
    "    else:\n",
    "        return get_set_of_venues_by_year(res)\n",
    "\n",
    "def get_set_of_venues(res):\n",
    "    references = [r[\"_source\"][\"References\"] for r in res if \"References\" in r[\"_source\"]]\n",
    "    venues = []\n",
    "    for ref in references:\n",
    "        for v in ref:\n",
    "            if \"JournalId\" in v:\n",
    "                venues.append(v[\"JournalId\"])\n",
    "            if \"ConferenceSeriesId\" in v:\n",
    "                venues.append(v[\"ConferenceSeriesId\"])\n",
    "    return venues\n",
    "\n",
    "def get_set_of_venues_by_year(res):\n",
    "    references = [(r[\"_source\"][\"Year\"], r[\"_source\"][\"References\"]) for r in res if \"References\" in r[\"_source\"]]\n",
    "    venues = {}\n",
    "    for y, ref in references:\n",
    "        if y not in venues:\n",
    "            venues[y] = []\n",
    "        for v in ref:\n",
    "            if \"JournalId\" in v:\n",
    "                venues[y].append(v[\"JournalId\"])\n",
    "            if \"ConferenceSeriesId\" in v:\n",
    "                venues[y].append(v[\"ConferenceSeriesId\"])\n",
    "    return venues\n",
    "\n",
    "def get_vector(bov, author_venue):\n",
    "    c = Counter(author_venue)\n",
    "    author_arr = [[float(c[b]) for b in bov]]\n",
    "    return np.array(author_arr)"
   ]
  },
  {
   "cell_type": "code",
   "execution_count": 5,
   "metadata": {},
   "outputs": [],
   "source": [
    "data = {}\n",
    "for name in name_id_pairs.keys():\n",
    "    data[name] = get_bov(name)"
   ]
  },
  {
   "cell_type": "code",
   "execution_count": 6,
   "metadata": {},
   "outputs": [
    {
     "name": "stdout",
     "output_type": "stream",
     "text": [
      "steve_blackburn: len(papers)=79, len(venues)=1375, len(set(venues))=156\n",
      "james_bornholt: len(papers)=10, len(venues)=37, len(set(venues))=20\n",
      "julian_dolby: len(papers)=5, len(venues)=16, len(set(venues))=9\n",
      "perry_cheng: len(papers)=51, len(venues)=308, len(set(venues))=76\n",
      "pldi: len(papers)=1386, len(venues)=28209, len(set(venues))=1041\n",
      "kathryn_mckinley: len(papers)=177, len(venues)=1230, len(set(venues))=135\n",
      "('Total # of venues = ', 1055)\n"
     ]
    }
   ],
   "source": [
    "bag_of_venues = set()\n",
    "sorted_list_bov = list()\n",
    "for name, venues in data.items():\n",
    "    print(\"{}: len(papers)={}, len(venues)={}, len(set(venues))={}\".format(name, name_id_pairs[name][\"numpaper\"], len(venues), len(set(venues))))\n",
    "    [bag_of_venues.add(v) for v in venues]\n",
    "print(\"Total # of venues = \", len(bag_of_venues))\n",
    "sorted_list_bov = list(bag_of_venues)\n",
    "number_of_venues = len(sorted_list_bov)"
   ]
  },
  {
   "cell_type": "code",
   "execution_count": 7,
   "metadata": {},
   "outputs": [],
   "source": [
    "vec = {}\n",
    "avg_vec = {}\n",
    "for name, varray in data.items():\n",
    "    vec[name] = get_vector(sorted_list_bov, varray)\n",
    "    avg_vec[name] = vec[name]/name_id_pairs[name][\"numpaper\"]"
   ]
  },
  {
   "cell_type": "markdown",
   "metadata": {},
   "source": [
    "# Cosine similarity"
   ]
  },
  {
   "cell_type": "code",
   "execution_count": 8,
   "metadata": {},
   "outputs": [
    {
     "name": "stdout",
     "output_type": "stream",
     "text": [
      "[[0.95721714]]\n",
      "[[0.95721714]]\n"
     ]
    }
   ],
   "source": [
    "print(cosine_similarity(vec[\"steve_blackburn\"], vec[\"kathryn_mckinley\"]))\n",
    "print(cosine_similarity(avg_vec[\"steve_blackburn\"], avg_vec[\"kathryn_mckinley\"]))"
   ]
  },
  {
   "cell_type": "code",
   "execution_count": 9,
   "metadata": {},
   "outputs": [
    {
     "data": {
      "text/plain": [
       "array([[0.35927077]])"
      ]
     },
     "execution_count": 9,
     "metadata": {},
     "output_type": "execute_result"
    }
   ],
   "source": [
    "cosine_similarity(vec[\"steve_blackburn\"], vec[\"james_bornholt\"])"
   ]
  },
  {
   "cell_type": "code",
   "execution_count": 10,
   "metadata": {},
   "outputs": [
    {
     "data": {
      "text/plain": [
       "array([[0.44655694]])"
      ]
     },
     "execution_count": 10,
     "metadata": {},
     "output_type": "execute_result"
    }
   ],
   "source": [
    "cosine_similarity(vec[\"kathryn_mckinley\"], vec[\"james_bornholt\"])"
   ]
  },
  {
   "cell_type": "code",
   "execution_count": 11,
   "metadata": {},
   "outputs": [
    {
     "data": {
      "text/plain": [
       "array([[0.75491899]])"
      ]
     },
     "execution_count": 11,
     "metadata": {},
     "output_type": "execute_result"
    }
   ],
   "source": [
    "cosine_similarity(vec[\"kathryn_mckinley\"], vec[\"pldi\"])"
   ]
  },
  {
   "cell_type": "code",
   "execution_count": 12,
   "metadata": {},
   "outputs": [
    {
     "data": {
      "text/plain": [
       "array([[0.63456002]])"
      ]
     },
     "execution_count": 12,
     "metadata": {},
     "output_type": "execute_result"
    }
   ],
   "source": [
    "cosine_similarity(vec[\"steve_blackburn\"], vec[\"pldi\"])"
   ]
  },
  {
   "cell_type": "code",
   "execution_count": 13,
   "metadata": {},
   "outputs": [
    {
     "data": {
      "text/plain": [
       "array([[0.84860174]])"
      ]
     },
     "execution_count": 13,
     "metadata": {},
     "output_type": "execute_result"
    }
   ],
   "source": [
    "cosine_similarity(vec[\"perry_cheng\"], vec[\"pldi\"])"
   ]
  },
  {
   "cell_type": "code",
   "execution_count": 14,
   "metadata": {},
   "outputs": [],
   "source": [
    "pca = PCA(n_components=2)\n",
    "def plot_pca(vec):\n",
    "    X = np.zeros((len(vec),number_of_venues))\n",
    "    for i, v in enumerate(vec.values()):\n",
    "        X[i] = v\n",
    "    # print(X)\n",
    "\n",
    "    pca = PCA(n_components=2)\n",
    "    pca.fit(X)\n",
    "    X_pca = pca.transform(X)\n",
    "    print(\"original shape:   \", X.shape)\n",
    "    print(\"transformed shape:\", X_pca.shape)\n",
    "    z = X_pca[:, 0]\n",
    "    y = X_pca[:, 1]\n",
    "    plt.scatter(z, y)\n",
    "    plt.axis('equal');\n",
    "    for i, name in enumerate(data.keys()):\n",
    "        plt.annotate(name, (z[i],y[i]))"
   ]
  },
  {
   "cell_type": "markdown",
   "metadata": {},
   "source": [
    "# PCA plot sum vectors"
   ]
  },
  {
   "cell_type": "code",
   "execution_count": 15,
   "metadata": {
    "scrolled": true
   },
   "outputs": [
    {
     "name": "stdout",
     "output_type": "stream",
     "text": [
      "('original shape:   ', (6, 1055))\n",
      "('transformed shape:', (6, 2))\n"
     ]
    },
    {
     "data": {
      "image/png": "[encoded data removed]",
      "text/plain": [
       "<Figure size 432x288 with 1 Axes>"
      ]
     },
     "metadata": {},
     "output_type": "display_data"
    }
   ],
   "source": [
    "plot_pca(vec)"
   ]
  },
  {
   "cell_type": "markdown",
   "metadata": {},
   "source": [
    "# PCA plot avg vectors"
   ]
  },
  {
   "cell_type": "code",
   "execution_count": 82,
   "metadata": {},
   "outputs": [
    {
     "name": "stdout",
     "output_type": "stream",
     "text": [
      "('original shape:   ', (6, 1055))\n",
      "('transformed shape:', (6, 2))\n"
     ]
    },
    {
     "data": {
      "image/png": "[encoded data removed]",
      "text/plain": [
       "<Figure size 432x288 with 1 Axes>"
      ]
     },
     "metadata": {},
     "output_type": "display_data"
    }
   ],
   "source": [
    "plot_pca(avg_vec)"
   ]
  },
  {
   "cell_type": "code",
   "execution_count": 16,
   "metadata": {},
   "outputs": [],
   "source": [
    "# generate vector by year\n",
    "yeardata = {}\n",
    "for name in name_id_pairs.keys():\n",
    "    yeardata[name] = get_bov(name, year=True)"
   ]
  },
  {
   "cell_type": "code",
   "execution_count": 17,
   "metadata": {},
   "outputs": [],
   "source": [
    "def year_plot(name):\n",
    "    pick = yeardata[name]\n",
    "#     print((len(pick), number_of_venues))\n",
    "    X = np.zeros((len(pick), number_of_venues))\n",
    "    for i, v in enumerate(pick.values()):\n",
    "        X[i] = get_vector(bag_of_venues, v)\n",
    "#     print(X)\n",
    "\n",
    "    pca.fit(X)\n",
    "    X_pca = pca.transform(X)\n",
    "    print(\"original shape:   \", X.shape)\n",
    "    print(\"transformed shape:\", X_pca.shape)\n",
    "    \n",
    "    if len(pick) > 1:\n",
    "        z = X_pca[:, 0]\n",
    "        y = X_pca[:, 1]\n",
    "        plt.scatter(z, y)\n",
    "        plt.axis('equal');\n",
    "        for i, name in enumerate(pick.keys()):\n",
    "            plt.annotate(name, (z[i],y[i]))\n",
    "    else:\n",
    "        plt.scatter([0],[0])\n",
    "        plt.annotate(pick.keys()[0], (0,0))"
   ]
  },
  {
   "cell_type": "markdown",
   "metadata": {},
   "source": [
    "# PCA Year plot (sum vectors)"
   ]
  },
  {
   "cell_type": "code",
   "execution_count": 18,
   "metadata": {},
   "outputs": [
    {
     "name": "stdout",
     "output_type": "stream",
     "text": [
      "('original shape:   ', (32, 1055))\n",
      "('transformed shape:', (32, 2))\n"
     ]
    },
    {
     "data": {
      "image/png": "[encoded data removed]",
      "text/plain": [
       "<Figure size 432x288 with 1 Axes>"
      ]
     },
     "metadata": {},
     "output_type": "display_data"
    }
   ],
   "source": [
    "year_plot(\"pldi\")"
   ]
  },
  {
   "cell_type": "code",
   "execution_count": 19,
   "metadata": {},
   "outputs": [
    {
     "name": "stdout",
     "output_type": "stream",
     "text": [
      "('original shape:   ', (22, 1055))\n",
      "('transformed shape:', (22, 2))\n"
     ]
    },
    {
     "data": {
      "image/png": "[encoded data removed]",
      "text/plain": [
       "<Figure size 432x288 with 1 Axes>"
      ]
     },
     "metadata": {},
     "output_type": "display_data"
    }
   ],
   "source": [
    "year_plot(\"steve_blackburn\")"
   ]
  },
  {
   "cell_type": "code",
   "execution_count": 20,
   "metadata": {},
   "outputs": [
    {
     "name": "stdout",
     "output_type": "stream",
     "text": [
      "('original shape:   ', (19, 1055))\n",
      "('transformed shape:', (19, 2))\n"
     ]
    },
    {
     "data": {
      "image/png": "[encoded data removed]",
      "text/plain": [
       "<Figure size 432x288 with 1 Axes>"
      ]
     },
     "metadata": {},
     "output_type": "display_data"
    }
   ],
   "source": [
    "year_plot(\"kathryn_mckinley\")"
   ]
  },
  {
   "cell_type": "code",
   "execution_count": 21,
   "metadata": {},
   "outputs": [
    {
     "name": "stdout",
     "output_type": "stream",
     "text": [
      "('original shape:   ', (8, 1055))\n",
      "('transformed shape:', (8, 2))\n"
     ]
    },
    {
     "data": {
      "image/png": "[encoded data removed]",
      "text/plain": [
       "<Figure size 432x288 with 1 Axes>"
      ]
     },
     "metadata": {},
     "output_type": "display_data"
    }
   ],
   "source": [
    "year_plot(\"perry_cheng\")"
   ]
  },
  {
   "cell_type": "code",
   "execution_count": 22,
   "metadata": {},
   "outputs": [
    {
     "name": "stdout",
     "output_type": "stream",
     "text": [
      "('original shape:   ', (1, 1055))\n",
      "('transformed shape:', (1, 1))\n"
     ]
    },
    {
     "name": "stderr",
     "output_type": "stream",
     "text": [
      "/Users/minjeongshin/miniconda2/lib/python2.7/site-packages/sklearn/decomposition/pca.py:423: RuntimeWarning: invalid value encountered in divide\n",
      "  explained_variance_ = (S ** 2) / (n_samples - 1)\n"
     ]
    },
    {
     "data": {
      "image/png": "[encoded data removed]",
      "text/plain": [
       "<Figure size 432x288 with 1 Axes>"
      ]
     },
     "metadata": {},
     "output_type": "display_data"
    }
   ],
   "source": [
    "year_plot(\"james_bornholt\")"
   ]
  },
  {
   "cell_type": "code",
   "execution_count": 23,
   "metadata": {},
   "outputs": [
    {
     "name": "stdout",
     "output_type": "stream",
     "text": [
      "('original shape:   ', (1, 1055))\n",
      "('transformed shape:', (1, 1))\n"
     ]
    },
    {
     "data": {
      "image/png": "[encoded data removed]",
      "text/plain": [
       "<Figure size 432x288 with 1 Axes>"
      ]
     },
     "metadata": {},
     "output_type": "display_data"
    }
   ],
   "source": [
    "year_plot(\"julian_dolby\")"
   ]
  },
  {
   "cell_type": "code",
   "execution_count": null,
   "metadata": {},
   "outputs": [],
   "source": []
  }
 ],
 "metadata": {
  "kernelspec": {
   "display_name": "Python 2",
   "language": "python",
   "name": "python2"
  },
  "language_info": {
   "codemirror_mode": {
    "name": "ipython",
    "version": 2
   },
   "file_extension": ".py",
   "mimetype": "text/x-python",
   "name": "python",
   "nbconvert_exporter": "python",
   "pygments_lexer": "ipython2",
   "version": "2.7.14"
  }
 },
 "nbformat": 4,
 "nbformat_minor": 2
}
